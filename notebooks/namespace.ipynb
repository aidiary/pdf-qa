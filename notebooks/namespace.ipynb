{
 "cells": [
  {
   "cell_type": "code",
   "execution_count": 58,
   "metadata": {},
   "outputs": [],
   "source": [
    "import os\n",
    "from pinecone import Pinecone\n",
    "\n",
    "from langchain_openai import OpenAIEmbeddings\n",
    "from langchain_pinecone import PineconeVectorStore\n",
    "from langchain import hub\n",
    "from langchain_core.runnables import RunnablePassthrough\n",
    "from langchain_openai import ChatOpenAI\n",
    "from langchain_core.output_parsers import StrOutputParser"
   ]
  },
  {
   "cell_type": "code",
   "execution_count": 5,
   "metadata": {},
   "outputs": [],
   "source": [
    "pc = Pinecone(api_key=os.environ[\"PINECONE_API_KEY\"])"
   ]
  },
  {
   "cell_type": "code",
   "execution_count": 7,
   "metadata": {},
   "outputs": [
    {
     "data": {
      "text/plain": [
       "{'indexes': []}"
      ]
     },
     "execution_count": 7,
     "metadata": {},
     "output_type": "execute_result"
    }
   ],
   "source": [
    "pc.list_indexes()"
   ]
  },
  {
   "cell_type": "code",
   "execution_count": 11,
   "metadata": {},
   "outputs": [],
   "source": [
    "index_name = \"namespace-test-index\"\n",
    "\n",
    "# インデックスはコンソールから作成できるのでそのほうがいい\n",
    "# pc.create_index(\n",
    "#     name=index_name,\n",
    "#     dimension=1536,\n",
    "#     metric=\"cosine\",\n",
    "#     spec=ServerlessSpec(cloud=\"aws\", region=\"us-east-1\")\n",
    "# )"
   ]
  },
  {
   "cell_type": "code",
   "execution_count": 22,
   "metadata": {},
   "outputs": [
    {
     "data": {
      "text/plain": [
       "{'indexes': [{'deletion_protection': 'disabled',\n",
       "              'dimension': 1536,\n",
       "              'host': 'namespace-test-index-k6ehddk.svc.aped-4627-b74a.pinecone.io',\n",
       "              'metric': 'cosine',\n",
       "              'name': 'namespace-test-index',\n",
       "              'spec': {'serverless': {'cloud': 'aws', 'region': 'us-east-1'}},\n",
       "              'status': {'ready': True, 'state': 'Ready'}}]}"
      ]
     },
     "execution_count": 22,
     "metadata": {},
     "output_type": "execute_result"
    }
   ],
   "source": [
    "pc.list_indexes()"
   ]
  },
  {
   "cell_type": "code",
   "execution_count": 23,
   "metadata": {},
   "outputs": [
    {
     "data": {
      "text/plain": [
       "<pinecone.data.index.Index at 0x7f9d9bfd0a90>"
      ]
     },
     "execution_count": 23,
     "metadata": {},
     "output_type": "execute_result"
    }
   ],
   "source": [
    "index = pc.Index(index_name)\n",
    "index"
   ]
  },
  {
   "cell_type": "code",
   "execution_count": 43,
   "metadata": {},
   "outputs": [],
   "source": [
    "embeddings = OpenAIEmbeddings(model=\"text-embedding-3-small\")\n",
    "vectorstore = PineconeVectorStore(index=index, embedding=embeddings)"
   ]
  },
  {
   "cell_type": "code",
   "execution_count": 18,
   "metadata": {},
   "outputs": [],
   "source": [
    "contents = [\n",
    "    \"新入社員は初日に人事部で手続きを行ってください。\",\n",
    "    \"製品Aの電源ボタンは右側面にあります。\",\n",
    "    \"パスワードの変更は3ヶ月ごとに必要です。\",\n",
    "    \"太陽光パネルの効率は15%から20%です。\",\n",
    "    \"契約書の有効期限は署名日から2年間です。\",\n",
    "    \"新薬Xは高血圧治療に効果があります。\",\n",
    "    \"第3四半期の売上は前年比10%増加しました。\",\n",
    "    \"患者Yさんはペニシリンにアレルギーがあります。\",\n",
    "    \"台風5号は明日午後に本州に上陸する見込みです。\",\n",
    "    \"商品の返品は購入後14日以内に限ります。\"\n",
    "]"
   ]
  },
  {
   "cell_type": "code",
   "execution_count": 25,
   "metadata": {},
   "outputs": [
    {
     "data": {
      "text/plain": [
       "['f388d5c2-63c6-43af-a095-dbb2324fe89c',\n",
       " '0b687e9b-ff2e-4c5b-bcb2-95e9490e621b',\n",
       " '5e4efb87-4c2f-4efe-9c99-26936d9fb5d5',\n",
       " '587af52f-8a69-4496-a57e-f046323b285c',\n",
       " '59b25b88-2957-4fdb-8cca-8ca75df8babf',\n",
       " 'd3051c53-ea51-47e8-9111-b31f83e80644',\n",
       " 'd29bc8eb-bbd2-458a-a60f-23c63125794d',\n",
       " 'd8b93c87-b502-48f6-a500-87b04c19395f',\n",
       " '906c1919-a0d2-40fe-95b5-89c825c472a8',\n",
       " '67c9b15a-2e8d-41d7-94c9-d34cb92b6637']"
      ]
     },
     "execution_count": 25,
     "metadata": {},
     "output_type": "execute_result"
    }
   ],
   "source": [
    "from langchain_core.documents import Document\n",
    "\n",
    "documents = []\n",
    "for content in contents:\n",
    "    documents.append(Document(page_content=content))\n",
    "\n",
    "# Pineconeにドキュメントを追加\n",
    "vectorstore.add_documents(documents, namespace=\"test1\")"
   ]
  },
  {
   "cell_type": "code",
   "execution_count": 39,
   "metadata": {},
   "outputs": [
    {
     "data": {
      "text/plain": [
       "['f1bf0a80-ad0e-4052-8916-11b9b5267e0f',\n",
       " 'f4c1ebc9-755d-4bda-b8e2-cd06a3052877',\n",
       " '066f965e-87b5-491a-a195-63862adde473',\n",
       " 'e517d572-1df8-4b19-a2e3-7d9f73a5709d',\n",
       " 'f1d646a6-3274-4037-ac25-27886001e204',\n",
       " '55daaaee-24ba-4b15-9fef-1d7c27366fea',\n",
       " '081e0425-be9a-4640-8aeb-ecd2df5f9ca5',\n",
       " 'c056c33a-d631-451f-aa04-e9c81bfbed09',\n",
       " '83a3b413-fc3e-4cf3-a1c8-4dd28628ef1f',\n",
       " '5851946d-be0c-488d-a05d-543b67438788']"
      ]
     },
     "execution_count": 39,
     "metadata": {},
     "output_type": "execute_result"
    }
   ],
   "source": [
    "contents2 = [\n",
    "    \"年次有給休暇は勤続6ヶ月後から付与されます。\",\n",
    "    \"ノートPCのバッテリー持続時間は約8時間です。\",\n",
    "    \"社内LANのパスワードは毎月1日に更新されます。\",\n",
    "    \"電気自動車の航続距離は満充電で約400kmです。\",\n",
    "    \"特許権の存続期間は出願から20年間となります。\",\n",
    "    \"新型コロナワクチンは2回接種が基本となります。\",\n",
    "    \"当社株価は前日終値比3%高の1,200円で取引開始。\",\n",
    "    \"患者Aさんの血圧は収縮期140、拡張期90です。\",\n",
    "    \"来月の展示会は東京ビッグサイトで3日間開催。\",\n",
    "    \"製品保証期間は購入日から1年間有効です。\"\n",
    "]\n",
    "\n",
    "documents = []\n",
    "for content in contents2:\n",
    "    documents.append(Document(page_content=content))\n",
    "\n",
    "vectorstore.add_documents(documents, namespace=\"test2\")"
   ]
  },
  {
   "cell_type": "code",
   "execution_count": 44,
   "metadata": {},
   "outputs": [
    {
     "data": {
      "text/plain": [
       "[Document(page_content='新入社員は初日に人事部で手続きを行ってください。'),\n",
       " Document(page_content='契約書の有効期限は署名日から2年間です。'),\n",
       " Document(page_content='パスワードの変更は3ヶ月ごとに必要です。'),\n",
       " Document(page_content='第3四半期の売上は前年比10%増加しました。'),\n",
       " Document(page_content='商品の返品は購入後14日以内に限ります。')]"
      ]
     },
     "execution_count": 44,
     "metadata": {},
     "output_type": "execute_result"
    }
   ],
   "source": [
    "results = vectorstore.similarity_search(\n",
    "    \"年次休暇の人事規定について教えて\",\n",
    "    k=5,\n",
    "    namespace=\"test1\"\n",
    ")\n",
    "\n",
    "results"
   ]
  },
  {
   "cell_type": "code",
   "execution_count": 45,
   "metadata": {},
   "outputs": [
    {
     "data": {
      "text/plain": [
       "[Document(page_content='年次有給休暇は勤続6ヶ月後から付与されます。'),\n",
       " Document(page_content='特許権の存続期間は出願から20年間となります。'),\n",
       " Document(page_content='社内LANのパスワードは毎月1日に更新されます。'),\n",
       " Document(page_content='製品保証期間は購入日から1年間有効です。'),\n",
       " Document(page_content='新型コロナワクチンは2回接種が基本となります。')]"
      ]
     },
     "execution_count": 45,
     "metadata": {},
     "output_type": "execute_result"
    }
   ],
   "source": [
    "results = vectorstore.similarity_search(\n",
    "    \"年次休暇の人事規定について教えて\",\n",
    "    k=5,\n",
    "    namespace=\"test2\"\n",
    ")\n",
    "\n",
    "results"
   ]
  },
  {
   "cell_type": "code",
   "execution_count": 51,
   "metadata": {},
   "outputs": [
    {
     "data": {
      "text/plain": [
       "[Document(page_content='新入社員は初日に人事部で手続きを行ってください。'),\n",
       " Document(page_content='契約書の有効期限は署名日から2年間です。')]"
      ]
     },
     "execution_count": 51,
     "metadata": {},
     "output_type": "execute_result"
    }
   ],
   "source": [
    "retriever = vectorstore.as_retriever(search_kwargs={\"k\": 2, \"namespace\": \"test1\"})\n",
    "retriever.invoke(\"年次休暇の人事規定について教えて\")"
   ]
  },
  {
   "cell_type": "code",
   "execution_count": 53,
   "metadata": {},
   "outputs": [
    {
     "data": {
      "text/plain": [
       "[Document(page_content='年次有給休暇は勤続6ヶ月後から付与されます。'),\n",
       " Document(page_content='特許権の存続期間は出願から20年間となります。')]"
      ]
     },
     "execution_count": 53,
     "metadata": {},
     "output_type": "execute_result"
    }
   ],
   "source": [
    "retriever = vectorstore.as_retriever(search_kwargs={\"k\": 2, \"namespace\": \"test2\"})\n",
    "retriever.invoke(\"年次休暇の人事規定について教えて\")"
   ]
  },
  {
   "cell_type": "code",
   "execution_count": 63,
   "metadata": {},
   "outputs": [
    {
     "data": {
      "text/plain": [
       "'パスワードの変更は3ヶ月ごとに必要です。'"
      ]
     },
     "execution_count": 63,
     "metadata": {},
     "output_type": "execute_result"
    }
   ],
   "source": [
    "retriever = vectorstore.as_retriever(search_kwargs={\"k\": 2, \"namespace\": \"test1\"})\n",
    "prompt = hub.pull(\"rlm/rag-prompt\")\n",
    "llm = ChatOpenAI(model=\"gpt-4o-mini\")\n",
    "\n",
    "def format_docs(docs):\n",
    "    return \"\\n\\n\".join(doc.page_content for doc in docs)\n",
    "\n",
    "rag_chain = (\n",
    "    {\"context\": retriever | format_docs, \"question\": RunnablePassthrough()}\n",
    "    | prompt\n",
    "    | llm\n",
    "    | StrOutputParser()\n",
    ")\n",
    "\n",
    "rag_chain.invoke(\"パスワードの変更は何か月ごとに必要ですか？\")"
   ]
  }
 ],
 "metadata": {
  "kernelspec": {
   "display_name": "pdf-qa-x6hMSAtC-py3.11",
   "language": "python",
   "name": "python3"
  },
  "language_info": {
   "codemirror_mode": {
    "name": "ipython",
    "version": 3
   },
   "file_extension": ".py",
   "mimetype": "text/x-python",
   "name": "python",
   "nbconvert_exporter": "python",
   "pygments_lexer": "ipython3",
   "version": "3.11.7"
  }
 },
 "nbformat": 4,
 "nbformat_minor": 2
}
